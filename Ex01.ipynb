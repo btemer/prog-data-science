{
 "cells": [
  {
   "cell_type": "markdown",
   "metadata": {},
   "source": [
    "#    Uma empresa quer transmitir dados pelo telefone, mas está preocupada com a interceptação telefônica. Todos os seus dados são transmitidos como inteiros de quatro dígitos. Ela pediu para que você escreva um programa que criptografe seus dados, para que eles possam ser transmitidos com mais segurança. Seu aplicativo deve ler um inteiro de quatro dígitos fornecidos pelo usuário e criptografá-lo da seguinte forma: substitua cada dígitos por (a soma desse dígitos mais 7) módulo 10. Em seguida, troque o primeiro dígito pelo terceiro e troque o segundo dígito pelo quarto e imprima o inteiro criptografado."
   ]
  },
  {
   "cell_type": "code",
   "execution_count": 2,
   "metadata": {},
   "outputs": [
    {
     "name": "stdout",
     "output_type": "stream",
     "text": [
      "Numero: 1873\n",
      "4085\n"
     ]
    }
   ],
   "source": [
    "numero = int(input('Numero: '))\n",
    "\n",
    "digito4 = int(((numero % 10) + 7) % 10)\n",
    "digito3 = int((((numero % 100) / 10) + 7) % 10)\n",
    "digito2 = int((((numero % 1000) / 100) + 7) % 10)\n",
    "digito1 = int((((numero % 10000) / 1000) + 7) % 10)\n",
    "\n",
    "print(str(digito3) + str(digito4) + str(digito1) + str(digito2))"
   ]
  },
  {
   "cell_type": "markdown",
   "metadata": {},
   "source": [
    "2. Implemente a função par que retorna verdadeiro se um número inteiro passado como parâmetro for par ou falso caso ele seja ímpar. Teste seu programa chamando a função para verificar os números de 0 à 10."
   ]
  },
  {
   "cell_type": "code",
   "execution_count": 20,
   "metadata": {},
   "outputs": [
    {
     "name": "stdout",
     "output_type": "stream",
     "text": [
      "0 Par\n",
      "1 Impar\n",
      "2 Par\n",
      "3 Impar\n",
      "4 Par\n",
      "5 Impar\n",
      "6 Par\n",
      "7 Impar\n",
      "8 Par\n",
      "9 Impar\n",
      "10 Par\n"
     ]
    }
   ],
   "source": [
    "def par(numero):\n",
    "    if numero % 2 == 0:\n",
    "        return(\"Par\")\n",
    "    else:\n",
    "        return(\"Impar\")\n",
    "\n",
    "for i in range(11):\n",
    "    print(str(i) + ' ' + par(i))"
   ]
  },
  {
   "cell_type": "markdown",
   "metadata": {},
   "source": [
    "3. Escreva um programa que leia 3 números inteiros referente ao comprimento dos lados de um triângulo e classifique como: triângulo equilátero, isósceles ou escaleno."
   ]
  },
  {
   "cell_type": "code",
   "execution_count": 3,
   "metadata": {},
   "outputs": [
    {
     "name": "stdout",
     "output_type": "stream",
     "text": [
      "Lado1: 3\n",
      "Lado2: 4\n",
      "Lado3: 5\n",
      "Triângulo Escaleno\n"
     ]
    }
   ],
   "source": [
    "lado1 = int(input('Lado1: '))\n",
    "lado2 = int(input('Lado2: '))\n",
    "lado3 = int(input('Lado3: '))\n",
    "\n",
    "triangulo = True\n",
    "lado12 = lado1 + lado2\n",
    "lado13 = lado1 + lado3\n",
    "lado23 = lado2 + lado3\n",
    "\n",
    "if lado12 <= lado3:\n",
    "    triangulo = False\n",
    "elif lado13 <= lado2:\n",
    "    triangulo = False\n",
    "elif lado23 <= lado1:\n",
    "    triangulo = False\n",
    "if(triangulo):\n",
    "    if (lado1 == lado2 and lado2 == lado3):\n",
    "        print('Triângulo Equilátero')\n",
    "    elif (((lado1 == lado2) and (lado2 != lado3))):\n",
    "        print ('Triângulo Isósceles')\n",
    "    elif (((lado1 == lado3) and (lado3 != lado2))):\n",
    "        print ('Triângulo Isósceles')\n",
    "    elif (((lado2 == lado3) and (lado3 != lado1))):\n",
    "        print ('Triângulo Isósceles')\n",
    "    else:\n",
    "        print ('Triângulo Escaleno')\n",
    "else:\n",
    "    print('Essas medidas não podem ser de um triângulo.')"
   ]
  },
  {
   "cell_type": "markdown",
   "metadata": {},
   "source": [
    "4. Escreva um programa que aceita um número como entrada e insere hífens (-) entre dois números pares. Por exemplo, se receber o número 02368859 como entrada, a saída do programa deverá ser: 0-236-8-859."
   ]
  },
  {
   "cell_type": "code",
   "execution_count": 4,
   "metadata": {},
   "outputs": [
    {
     "name": "stdout",
     "output_type": "stream",
     "text": [
      "Numero: 02368859\n",
      "0-236-8-859\n"
     ]
    }
   ],
   "source": [
    "numero = input('Numero: ')\n",
    "lista_numero = list(numero)\n",
    "quant_num = len(lista_numero)\n",
    "temp = ''\n",
    "\n",
    "for i in range(quant_num):\n",
    "    if(int(lista_numero[i]) % 2 == 0 and int(lista_numero[i+1]) % 2 == 0):\n",
    "        temp += str(lista_numero[i]) + '-'\n",
    "    else:\n",
    "        temp += str(lista_numero[i])\n",
    "\n",
    "print(temp)"
   ]
  },
  {
   "cell_type": "markdown",
   "metadata": {},
   "source": [
    "5. Escreva um programa que encontre o item mais frequente de um vetor. Exemplo: [2, 7, 7, 7, ‘#’, ‘#’, ‘#’, ‘@’, 3, ‘#’, 6]  // Saída: # aparece 4 vezes"
   ]
  },
  {
   "cell_type": "code",
   "execution_count": 21,
   "metadata": {},
   "outputs": [
    {
     "name": "stdout",
     "output_type": "stream",
     "text": [
      "Itens: 2777###@3#6\n",
      "# aparece 4 vezes.\n"
     ]
    }
   ],
   "source": [
    "itens = input('Itens: ')\n",
    "lista_itens = list(itens)\n",
    "pos_maior = int(0)\n",
    "quant_maior = int(0)\n",
    "\n",
    "for i in range(len(lista_itens)):\n",
    "    if lista_itens.count(lista_itens[i]) > quant_maior:\n",
    "        quant_maior = lista_itens.count(lista_itens[i])\n",
    "        pos_maior = i\n",
    "\n",
    "print(lista_itens[pos_maior] + ' aparece ' + str(quant_maior) + ' vezes.')"
   ]
  },
  {
   "cell_type": "markdown",
   "metadata": {},
   "source": [
    "6. Um número de Armstrong de 3 dígitos é um inteiro pelo qual a soma dos cubos dos seus dígitos é igual ao seu número. Por exemplo: o número inteiro 371 é um número de Armstrong, porque 3³ + 7³ + 1³ = 371. Escreva um programa que verifique se um número de 3 dígitos fornecido como entrada é um número de Armstrong."
   ]
  },
  {
   "cell_type": "code",
   "execution_count": 6,
   "metadata": {},
   "outputs": [
    {
     "name": "stdout",
     "output_type": "stream",
     "text": [
      "Numero: 371\n",
      "371 é um número de Armstrong\n"
     ]
    }
   ],
   "source": [
    "numero = input('Numero: ')\n",
    "lista_numero = list(numero)\n",
    "quant_num = len(lista_numero)\n",
    "multiplica = int(lista_numero[0])**3 + int(lista_numero[1])**3 + int(lista_numero[2])**3\n",
    "\n",
    "if int(multiplica) == int(numero):\n",
    "    print(numero + ' é um número de Armstrong')\n",
    "else:\n",
    "    print(numero + ' não é um número de Armstrong')\n"
   ]
  },
  {
   "cell_type": "markdown",
   "metadata": {},
   "source": [
    "7. Escreva uma função ue receba uma string e conte o número de vogais dentro dela, por exemplo: entrada: ‘Ciência de Dados’, saída: 7 vogais"
   ]
  },
  {
   "cell_type": "code",
   "execution_count": 23,
   "metadata": {},
   "outputs": [
    {
     "name": "stdout",
     "output_type": "stream",
     "text": [
      "Nome: Ciência de Dados\n",
      "7 vogais\n"
     ]
    }
   ],
   "source": [
    "def contar(nome):\n",
    "    conta_a = nome.count('a') + nome.count('á') + nome.count('à') + nome.count('ã') + nome.count('â')\n",
    "    conta_e = nome.count('e') + nome.count('é') + nome.count('è') + nome.count('ê')\n",
    "    conta_i = nome.count('i') + nome.count('ì') + nome.count('í') + nome.count('î')\n",
    "    conta_o = nome.count('o') + nome.count('ó') + nome.count('ò') + nome.count('õ') + nome.count('ô')\n",
    "    conta_u = nome.count('u') + nome.count('ú') + nome.count('ù') + nome.count('û')\n",
    "    return(str(conta_a + conta_e + conta_i + conta_o + conta_u) + ' vogais')\n",
    "\n",
    "nome = input('Nome: ')\n",
    "print(contar(nome))"
   ]
  },
  {
   "cell_type": "markdown",
   "metadata": {},
   "source": [
    "8. Implemente em Python o algoritmo de Busca Binária"
   ]
  },
  {
   "cell_type": "code",
   "execution_count": 12,
   "metadata": {},
   "outputs": [
    {
     "name": "stdout",
     "output_type": "stream",
     "text": [
      "Numero: 13\n",
      "O número 13 está na posição 13 do vetor\n"
     ]
    }
   ],
   "source": [
    "numeros = [0,1,2,3,4,5,6,7,8,9,10,11,12,13,14,15,16,17,18,19,20,21,22,23,24,25]\n",
    "\n",
    "def busca(vetor, numero):\n",
    "    achou = 'false'\n",
    "    esquerda = 0\n",
    "    meio = 0\n",
    "    direita = len(vetor)\n",
    "    while(achou != 'true'):\n",
    "        meio = (direita + esquerda) // 2\n",
    "        if numero == vetor[meio]:\n",
    "            buscar = meio\n",
    "            achou = 'true'\n",
    "        elif numero > vetor[meio]:\n",
    "            esquerda = meio\n",
    "            buscar = meio\n",
    "        else:\n",
    "            direita = meio\n",
    "            buscar = meio\n",
    "    return meio\n",
    "\n",
    "numero = int(input('Numero: '))\n",
    "buscar = busca(numeros, numero)\n",
    "print('O número ' + str(numero) + ' está na posição ' + str(buscar) + ' do vetor')"
   ]
  },
  {
   "cell_type": "markdown",
   "metadata": {},
   "source": [
    "9. Escreva uma função que receba algum valor como parâmetro e retorne seu tipo"
   ]
  },
  {
   "cell_type": "code",
   "execution_count": 13,
   "metadata": {},
   "outputs": [
    {
     "name": "stdout",
     "output_type": "stream",
     "text": [
      "1 é um <class 'int'>\n",
      "teste é um <class 'str'>\n",
      "3.14 é um <class 'float'>\n",
      "True é um <class 'bool'>\n",
      "[1, 2, 3, 4] é um <class 'list'>\n",
      "(1, 2, 3, 4) é um <class 'tuple'>\n",
      "{1, 2, 3, 4} é um <class 'set'>\n"
     ]
    }
   ],
   "source": [
    "def tipo(valor):\n",
    "    return(type(valor))\n",
    "\n",
    "inteiro = 1\n",
    "texto = 'teste'\n",
    "decimal = 3.14\n",
    "logico = True\n",
    "lista = [1,2,3,4]\n",
    "tupla = (1,2,3,4)\n",
    "set = {1,2,3,4}\n",
    "\n",
    "print(str(inteiro) + ' é um ' + str(tipo(inteiro)))\n",
    "print(str(texto) + ' é um ' + str(tipo(texto)))\n",
    "print(str(decimal) + ' é um ' + str(tipo(decimal)))\n",
    "print(str(logico) + ' é um ' + str(tipo(logico)))\n",
    "print(str(lista) + ' é um ' + str(tipo(lista)))\n",
    "print(str(tupla) + ' é um ' + str(tipo(tupla)))\n",
    "print(str(set) + ' é um ' + str(tipo(set)))"
   ]
  },
  {
   "cell_type": "markdown",
   "metadata": {},
   "source": [
    "10. Escreva uma função que receba um lista numérica como parâmetro e retorne os segundos maiores e menores números da sequência, por exemplo: entrada [1, 2, 3, 4, 5, 6, 7, 8, 9], saída [2, 8]."
   ]
  },
  {
   "cell_type": "code",
   "execution_count": 14,
   "metadata": {},
   "outputs": [
    {
     "name": "stdout",
     "output_type": "stream",
     "text": [
      "[2, 8]\n"
     ]
    }
   ],
   "source": [
    "def contar (lista):\n",
    "    sorted(lista)\n",
    "    lista.remove(max(int(numero) for numero in lista))\n",
    "    lista.remove(min(int(numero) for numero in lista))\n",
    "        \n",
    "    \n",
    "    return [lista[0], lista[len(lista)-1]]\n",
    "\n",
    "lista = [1, 2, 3, 4, 5, 6, 7, 8, 9]\n",
    "conta = contar(lista)\n",
    "print(conta)"
   ]
  },
  {
   "cell_type": "markdown",
   "metadata": {},
   "source": [
    "11.  Escreva uma função que receba um número inteiro como entrada (px.: 32243) e retorne o número invertido (px.: 34223)."
   ]
  },
  {
   "cell_type": "code",
   "execution_count": 15,
   "metadata": {},
   "outputs": [
    {
     "name": "stdout",
     "output_type": "stream",
     "text": [
      "Numero: 12345\n",
      "54321\n"
     ]
    }
   ],
   "source": [
    "numero = input('Numero: ')\n",
    "lista_numero = list(numero)\n",
    "inverso = ''\n",
    "\n",
    "for i in range((len(lista_numero) - 1), -1, -1):\n",
    "    inverso += lista_numero[i]\n",
    "    \n",
    "print(inverso)"
   ]
  },
  {
   "cell_type": "code",
   "execution_count": null,
   "metadata": {},
   "outputs": [],
   "source": []
  }
 ],
 "metadata": {
  "kernelspec": {
   "display_name": "Python 3",
   "language": "python",
   "name": "python3"
  },
  "language_info": {
   "codemirror_mode": {
    "name": "ipython",
    "version": 3
   },
   "file_extension": ".py",
   "mimetype": "text/x-python",
   "name": "python",
   "nbconvert_exporter": "python",
   "pygments_lexer": "ipython3",
   "version": "3.7.3"
  }
 },
 "nbformat": 4,
 "nbformat_minor": 2
}
